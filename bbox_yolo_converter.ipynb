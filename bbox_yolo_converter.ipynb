{
 "metadata": {
  "language_info": {
   "codemirror_mode": {
    "name": "ipython",
    "version": 3
   },
   "file_extension": ".py",
   "mimetype": "text/x-python",
   "name": "python",
   "nbconvert_exporter": "python",
   "pygments_lexer": "ipython3",
   "version": "3.6.12-final"
  },
  "orig_nbformat": 2,
  "kernelspec": {
   "name": "python3",
   "display_name": "Python 3",
   "language": "python"
  }
 },
 "nbformat": 4,
 "nbformat_minor": 2,
 "cells": [
  {
   "cell_type": "code",
   "execution_count": 1,
   "metadata": {
    "tags": []
   },
   "outputs": [],
   "source": [
    "import glob, shutil, os, json, re, random\n",
    "import numpy as np\n",
    "# from subprocess import call\n",
    "#Change the data_type\n",
    "data_type = 'val'\n",
    "CAP = 10\n",
    "\n",
    "data_src_path = '/home/pkn/tomas/aa'\n",
    "ann_path = '/home/pkn/tomas/aa/annotations'\n",
    "OUT_PATH = \"/home/pkn/mmdetection/yolov5/data/breed\"\n",
    "cpy_dest = f'/home/pkn/mmdetection/yolov5/data/breed/images/{data_type}'\n",
    "\n",
    "with open(f\"{data_type}{CAP}.txt\", 'r') as fin:                             # f string\n",
    "    file_list = [row.strip() for row in fin]                                # \n",
    "    #print(file_list)\n"
   ]
  },
  {
   "cell_type": "code",
   "execution_count": 2,
   "metadata": {
    "tags": []
   },
   "outputs": [
    {
     "output_type": "stream",
     "name": "stdout",
     "text": [
      "28 29\n",
      "28 40\n",
      "28 29\n",
      "28 38\n",
      "28 48\n",
      "28 48\n",
      "28 48\n",
      "63 71\n",
      "63 90\n",
      "63 67\n",
      "63 80\n",
      "63 104\n",
      "63 135\n",
      "63 103\n",
      "63 132\n"
     ]
    }
   ],
   "source": [
    "# strip 화이트 스페이스 제거\n",
    "for afile in file_list:                                                           \n",
    "    _, file_name, img_number, clss = afile.split('/')                   \n",
    "    cpy_dst = f\"{cpy_dest}/{file_name}-{img_number}\"\n",
    "    #print(cpy_dst)    \n",
    "    if not os.path.exists(cpy_dst):                    \n",
    "        cpy_src = os.path.join(data_src_path, afile.split('.')[0] + '.jpg')            \n",
    "        shutil.copy(cpy_src, cpy_dst) \n",
    "    img_name = file_name + \"-\" + img_number[:-4] \n",
    "    img_index = int(img_number[5:9]) - 1\n",
    "    json_path = ann_path + \"/\" + afile.split('/')[1] + \".mp4.json\"    \n",
    "    #print(json_path)    \n",
    "    with open(json_path) as json_file:\n",
    "        data = json.load(json_file)\n",
    "    imh = float(data['metadata']['height'])\n",
    "    imw = float(data['metadata']['width'])\n",
    "\n",
    "    try:\n",
    "        bbox = data['annotations'][img_index]['bounding_box']   \n",
    "    except:\n",
    "        print(len(data['annotations']), img_index)\n",
    "    x = bbox['x']\n",
    "    y = bbox['y']\n",
    "    w = bbox['width']\n",
    "    h = bbox['height']\n",
    "    x_center = x + w / 2\n",
    "    y_center = y + h / 2\n",
    "    x_center /= imw\n",
    "    y_center /= imh\n",
    "    w = min(w / imw, .99999)\n",
    "    h = min(h / imh, .99999)\n",
    "    # w /= imw\n",
    "    # h /= imh\n",
    "    yolo_data = [[int(clss), x_center, y_center, w, h]]            \n",
    "    \n",
    "    yolo_data = np.array(yolo_data)\n",
    "    # print(yolo_data)\n",
    "    # with open(os.path.join(OUT_PATH, f\"labels/{data_type}/{img_name}.txt\"), 'w') as f:\n",
    "    #     f.write(\"{}\".format(yolo_data))\n",
    "    np.savetxt(\n",
    "        os.path.join(OUT_PATH, f\"labels/{data_type}/{img_name}.txt\"),\n",
    "        yolo_data,\n",
    "        fmt=[\"%d\", \"%f\", \"%f\", \"%f\", \"%f\"]\n",
    "    )"
   ]
  },
  {
   "cell_type": "code",
   "execution_count": 3,
   "metadata": {},
   "outputs": [
    {
     "output_type": "stream",
     "name": "stdout",
     "text": [
      "done\n"
     ]
    }
   ],
   "source": [
    "print('done')"
   ]
  },
  {
   "cell_type": "code",
   "execution_count": 4,
   "metadata": {
    "tags": []
   },
   "outputs": [
    {
     "output_type": "stream",
     "name": "stdout",
     "text": [
      "31847\n18576\n31847\n18576\n"
     ]
    }
   ],
   "source": [
    "# all labels into one\n",
    "trainRaw = []\n",
    "valRaw = []\n",
    "\n",
    "train_path = \"/home/pkn/mmdetection/yolov5/data/breed/labels/train\"\n",
    "val_path = \"/home/pkn/mmdetection/yolov5/data/breed/labels/val\"\n",
    "\n",
    "train_list = os.listdir(train_path)\n",
    "val_list = os.listdir(val_path)\n",
    "\n",
    "for i in train_list:\n",
    "    trainRaw.append(i)\n",
    "\n",
    "for i in val_list:\n",
    "    valRaw.append(i)\n",
    "\n",
    "print(len(train_list))\n",
    "print(len(val_list))\n",
    "print(len(trainRaw))\n",
    "print(len(valRaw))\n",
    "\n"
   ]
  },
  {
   "cell_type": "code",
   "execution_count": 5,
   "metadata": {},
   "outputs": [],
   "source": [
    "with open('train_breed.txt', 'w') as f:\n",
    "    for clss in trainRaw:\n",
    "        #print(clss)\n",
    "        f.write(\"%s\\n\" % clss)"
   ]
  },
  {
   "cell_type": "code",
   "execution_count": 6,
   "metadata": {},
   "outputs": [],
   "source": [
    "with open('val_breed.txt', 'w') as f:\n",
    "    for clss in valRaw:\n",
    "        #print(clss)\n",
    "        f.write(\"%s\\n\" % clss)"
   ]
  },
  {
   "cell_type": "code",
   "execution_count": null,
   "metadata": {},
   "outputs": [],
   "source": []
  }
 ]
}