{
 "metadata": {
  "language_info": {
   "codemirror_mode": {
    "name": "ipython",
    "version": 3
   },
   "file_extension": ".py",
   "mimetype": "text/x-python",
   "name": "python",
   "nbconvert_exporter": "python",
   "pygments_lexer": "ipython3",
   "version": "3.6.12-final"
  },
  "orig_nbformat": 2,
  "kernelspec": {
   "name": "python3",
   "display_name": "Python 3",
   "language": "python"
  }
 },
 "nbformat": 4,
 "nbformat_minor": 2,
 "cells": [
  {
   "cell_type": "code",
   "execution_count": 1,
   "metadata": {},
   "outputs": [],
   "source": [
    "import csv\n",
    "import glob\n",
    "import os\n",
    "import os.path\n",
    "from subprocess import call\n",
    "from os import walk\n",
    "import json\n",
    "import random"
   ]
  },
  {
   "cell_type": "code",
   "execution_count": 2,
   "metadata": {
    "tags": []
   },
   "outputs": [
    {
     "output_type": "stream",
     "name": "stdout",
     "text": [
      "cat-lying-001754.mp4.json\n",
      "dog-turn-000244.mp4.json\n",
      "['sit/dog-sit-000890', 'heading/dog-heading-000179', 'bodylower/dog-bodylower-003771', 'walkrun/dog-walkrun-003019']\n"
     ]
    }
   ],
   "source": [
    "# breed list \n",
    "\n",
    "workDIr = os.path.abspath('.')\n",
    "#==============\n",
    "breed_list = []\n",
    "#==============\n",
    "breed_list_index = {}\n",
    "#==============\n",
    "class_list = {}\n",
    "#==============\n",
    "index_count = 0\n",
    "\n",
    "\n",
    "\n",
    "for path, dir, files in os.walk(workDIr):\n",
    "    for filename in files:\n",
    "        ext = os.path.splitext(filename)[-1]\n",
    "\n",
    "        if ext == '.json':\n",
    "            #print(\"%s/%s\" % (path, filename))\n",
    "            json_path = path + '/' + filename\n",
    "            #print(json_path)\n",
    "\n",
    "            try:\n",
    "                with open(json_path) as json_file:\n",
    "                    json_data = json.load(json_file)\n",
    "                    breed_name = json_data['metadata']['animal']['breed']\n",
    "\n",
    "                    # breed list with index\n",
    "                    if breed_name not in breed_list_index:\n",
    "                        breed_list_index[breed_name] = index_count\n",
    "                        breed_list.append(breed_name)\n",
    "                        index_count += 1\n",
    "                        \n",
    "                    # breed class\n",
    "                    if breed_name not in class_list.keys():\n",
    "                        class_list[breed_name] = []\n",
    "                    text_form = filename.split('-')[1]  + '/' + filename.split('.')[0]\n",
    "                    #print(filename.split('.')[0])\n",
    "                    class_list[breed_name].append(text_form)\n",
    "                    \n",
    "            except:\n",
    "                print(filename)\n",
    "                #pass\n",
    "\n",
    "#print(breed_list_index)\n",
    "print(class_list['골든 리트리버'])\n",
    "#print(breed_list)\n"
   ]
  },
  {
   "cell_type": "code",
   "execution_count": 3,
   "metadata": {},
   "outputs": [
    {
     "output_type": "stream",
     "name": "stdout",
     "text": [
      "2518\n"
     ]
    }
   ],
   "source": [
    "# 다 더해서 2500개 나오면 됨\n",
    "def sum_calc(a):\n",
    "    sum = 0\n",
    "    for i in a:\n",
    "        sum += len(a[i])\n",
    "\n",
    "    return sum\n",
    "\n",
    "print(sum_calc(class_list))"
   ]
  },
  {
   "cell_type": "code",
   "execution_count": 6,
   "metadata": {
    "tags": []
   },
   "outputs": [
    {
     "output_type": "stream",
     "name": "stdout",
     "text": [
      "푸들 : tailing/dog-tailing-000556, \n",
      "푸들 : tailing/dog-tailing-002473, \n",
      "푸들 : tailing/dog-tailing-001415, \n",
      "코리안 숏헤어 : laydown/cat-laydown-002822, \n",
      "코리안 숏헤어 : grooming/cat-grooming-001893, \n",
      "웰시 코기 (펨브록) : bodylower/dog-bodylower-000656, \n",
      "웰시 코기 (펨브록) : lying/dog-lying-001308, \n",
      "닥스훈트 : tailing/dog-tailing-002733, \n",
      "닥스훈트 : tailing/dog-tailing-002863, \n",
      "닥스훈트 : bodylower/dog-bodylower-002475, \n",
      "말티즈 : mounting/dog-mounting-002732, \n",
      "말티즈 : feetup/dog-feetup-007634, \n",
      "말티즈 : turn/dog-turn-000089, \n",
      "믹스견 : tailing/dog-tailing-002613, \n",
      "믹스견 : sit/dog-sit-002323, \n",
      "포메라니안 : bodylower/dog-bodylower-002259, \n",
      "포메라니안 : lying/dog-lying-001393, \n",
      "파피용 : feetup/dog-feetup-001312, \n",
      "프렌치 불독 : lying/dog-lying-002095, \n",
      "노르웨이숲 : grooming/cat-grooming-000098, \n",
      "비숑 프리제 : feetup/dog-feetup-008044, \n",
      "비숑 프리제 : turn/dog-turn-002933, \n",
      "비숑 프리제 : sit/dog-sit-002585, \n",
      "비숑 프리제 : sit/dog-sit-002611, \n",
      "비숑 프리제 : footup/dog-footup-002409, \n",
      "비숑 프리제 : sit/dog-sit-002772, \n",
      "비숑 프리제 : sit/dog-sit-002673, \n",
      "러시안블루 : grooming/cat-grooming-002912, \n",
      "러시안블루 : grooming/cat-grooming-002653, \n",
      "러시안블루 : heading/cat-heading-003714, \n",
      "러시안블루 : laydown/cat-laydown-002043, \n",
      "치와와 : sit/dog-sit-002762, \n",
      "엑조틱 숏헤어 : ['sitdown/cat-sitdown-000162'], \n",
      "시베리안 허스키 : ['sit/dog-sit-000889'], \n",
      "페르시안 : laydown/cat-laydown-002555, \n",
      "스노우슈 : ['roll/cat-roll-004831', 'tailing/cat-tailing-008034'], \n",
      "스노우슈 : tailing/cat-tailing-008034, \n",
      "먼치킨 롱헤어 : roll/cat-roll-000630, \n",
      "스코티쉬 폴드 : laydown/cat-laydown-002862, \n",
      "요크셔 테리어 : ['sit/dog-sit-001879', 'lying/dog-lying-000038', 'bodylower/dog-bodylower-000283'], \n",
      "요크셔 테리어 : ['sit/dog-sit-001879', 'lying/dog-lying-000038', 'bodylower/dog-bodylower-000283'], \n",
      "요크셔 테리어 : ['sit/dog-sit-001879', 'lying/dog-lying-000038', 'bodylower/dog-bodylower-000283'], \n",
      "버마 : ['getdown/cat-getdown-002403'], \n",
      "보스턴 테리어 : ['bodylower/dog-bodylower-001264', 'bodylower/dog-bodylower-001089'], \n",
      "보스턴 테리어 : ['bodylower/dog-bodylower-001264', 'bodylower/dog-bodylower-001089'], \n",
      "독일 스피츠 : ['sit/dog-sit-004916'], \n",
      "도베르만 : ['sit/dog-sit-000541'], \n",
      "베들링턴 테리어 : ['bodylower/dog-bodylower-001482', 'sit/dog-sit-001483', 'tailing/dog-tailing-001484'], \n",
      "베들링턴 테리어 : ['bodylower/dog-bodylower-001482', 'sit/dog-sit-001483', 'tailing/dog-tailing-001484'], \n",
      "베들링턴 테리어 : ['bodylower/dog-bodylower-001482', 'sit/dog-sit-001483', 'tailing/dog-tailing-001484'], \n",
      "스코티쉬 스트레이드 : ['footpush/cat-footpush-002369', 'grooming/cat-grooming-003035'], \n",
      "스코티쉬 스트레이드 : ['footpush/cat-footpush-002369', 'grooming/cat-grooming-003035'], \n",
      "라팜 숏헤어 : ['grooming/cat-grooming-001105', 'laydown/cat-laydown-000638', 'armstretch/cat-armstretch-001853'], \n",
      "라팜 숏헤어 : ['grooming/cat-grooming-001105', 'laydown/cat-laydown-000638', 'armstretch/cat-armstretch-001853'], \n",
      "라팜 숏헤어 : ['grooming/cat-grooming-001105', 'laydown/cat-laydown-000638', 'armstretch/cat-armstretch-001853'], \n",
      "아메리칸 숏헤어 : ['grooming/cat-grooming-003453'], \n"
     ]
    },
    {
     "output_type": "execute_result",
     "data": {
      "text/plain": [
       "2462"
      ]
     },
     "metadata": {},
     "execution_count": 6
    }
   ],
   "source": [
    "subs_list = {}\n",
    "#len(glob.glob(item + \"/*jpg\")\n",
    "def substract_list(a):\n",
    "    for key in a:\n",
    "        for item in a[key]:\n",
    "            if len(glob.glob(item + \"/*jpg\")) < 10:\n",
    "                #print(item)\n",
    "                print('{} : {}, '.format(key, item))\n",
    "                #pass\n",
    "            elif len(a[key]) < 4:\n",
    "                #여러번 프린트하는건 무시..\n",
    "                print('{} : {}, '.format(key, a[key]))\n",
    "            else:\n",
    "                if key not in subs_list.keys():\n",
    "                    subs_list[key] = []\n",
    "                #print(filename.split('.')[0])\n",
    "                subs_list[key].append(item)\n",
    "\n",
    "                #subs_list[key] = item\n",
    "\n",
    "\n",
    "substract_list(class_list)\n",
    "sum_calc(subs_list)\n",
    "\n",
    "#print(subs_list)"
   ]
  },
  {
   "cell_type": "code",
   "execution_count": 7,
   "metadata": {
    "tags": []
   },
   "outputs": [],
   "source": [
    "split_rate = 0.8\n",
    "trainRaw = {}\n",
    "valRaw = {}          \n",
    "arr = []\n",
    "\n",
    "# class_list = {'행복/즐거움': [], '편안/안정': [], '화남/불쾌': [], '불안/슬픔': [], '공격성': [], '공포': []}\n",
    "\n",
    "def train_val_shuffle(a):\n",
    "    \n",
    "    for clss in a:           \n",
    "        cls_len = len(a[clss])\n",
    "        split_point = int(split_rate * cls_len)  \n",
    "\n",
    "        #list = a[clss]\n",
    "\n",
    "        list = [item + \" {} {}\".format(len(glob.glob(item + \"/*jpg\")), breed_list_index[clss]) for item in a[clss]]\n",
    "\n",
    "\n",
    "\n",
    "        random.shuffle(list)                # 섞어주기\n",
    "        trainRaw[clss] = list[:split_point] # 80%\n",
    "        valRaw[clss] = list[split_point:]   # 20%\n",
    "        # couting each class_list\n",
    "        arr.append([clss, len(a[clss])])\n",
    "        #print('{} : {}, train: {}, val: {}'.format(clss, len(a[clss]), len(trainRaw[clss]), len(valRaw[clss])))    \n",
    "\n",
    "\n",
    "\n",
    "# substitute class_list to subs_breed\n",
    "train_val_shuffle(subs_list)"
   ]
  },
  {
   "cell_type": "code",
   "execution_count": 8,
   "metadata": {},
   "outputs": [],
   "source": [
    "with open('breed_train_pkn1.txt', 'w') as f:\n",
    "    for clss in trainRaw:\n",
    "        for item in trainRaw[clss]:\n",
    "            f.write(\"%s\\n\" % item)"
   ]
  },
  {
   "cell_type": "code",
   "execution_count": 9,
   "metadata": {},
   "outputs": [],
   "source": [
    "with open('breed_val_pkn1.txt', 'w') as f:\n",
    "    for clss in valRaw:\n",
    "        for item in valRaw[clss]:\n",
    "            f.write(\"%s\\n\" % item)"
   ]
  },
  {
   "cell_type": "code",
   "execution_count": 10,
   "metadata": {
    "tags": []
   },
   "outputs": [],
   "source": [
    "# Object detection Train set\n",
    "CNT = 10\n",
    "with open('train10.txt', 'w') as f:\n",
    "    for clss in trainRaw:\n",
    "        for item in trainRaw[clss]:\n",
    "            file_path, frames, clss = item.split(' ')            \n",
    "            # os.listdir 지정한 디렉토리 내의 모든 파일과 디렉토리 리스트 리턴\n",
    "            file_list = os.listdir(file_path)\n",
    "\n",
    "            if len(file_list) == 0:\n",
    "                print(file_path)\n",
    "            else:\n",
    "                # choose random 10\n",
    "                sampling = random.choices(file_list, k=CNT)\n",
    "                #print(sampling)\n",
    "    \n",
    "\n",
    "            for itemf in sampling:\n",
    "                f.write(\"{}\\n\".format(os.path.join(file_path,itemf, clss)))"
   ]
  },
  {
   "cell_type": "code",
   "execution_count": 11,
   "metadata": {},
   "outputs": [],
   "source": [
    "# Object detection Val set\n",
    "with open('val10.txt', 'w') as f:\n",
    "    for clss in valRaw:\n",
    "        for item in valRaw[clss]:\n",
    "            file_path, frames, clss = item.split(' ')            \n",
    "            file_list = os.listdir(file_path)\n",
    "\n",
    "            if len(file_list) == 0:\n",
    "                print(file_path)\n",
    "            else:\n",
    "                sampling = random.choices(file_list, k=CNT)\n",
    "            # print(clss)\n",
    "            #if clss == 'cat':\n",
    "            #    clss = '0'                \n",
    "            #else:\n",
    "            #    clss = '1'                \n",
    "\n",
    "            for itemf in sampling:\n",
    "                f.write(\"{}\\n\".format(os.path.join(file_path,itemf, clss)))"
   ]
  },
  {
   "cell_type": "code",
   "execution_count": 12,
   "metadata": {},
   "outputs": [],
   "source": [
    "with open('breed_list_index.txt', 'w') as f:\n",
    "    for clss in breed_list_index:\n",
    "            f.write(\"%s\\n\" % clss)"
   ]
  },
  {
   "cell_type": "code",
   "execution_count": null,
   "metadata": {},
   "outputs": [],
   "source": []
  }
 ]
}